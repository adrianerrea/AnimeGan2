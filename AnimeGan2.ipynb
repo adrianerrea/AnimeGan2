{
 "cells": [
  {
   "cell_type": "code",
   "execution_count": null,
   "metadata": {},
   "outputs": [],
   "source": [
    "from io import BytesIO\n",
    "import torch\n",
    "from PIL import Image\n",
    "import ipywidgets as widgets\n",
    "import IPython.display as display"
   ]
  },
  {
   "cell_type": "code",
   "execution_count": null,
   "metadata": {},
   "outputs": [],
   "source": [
    "model = torch.hub.load(\"bryandlee/animegan2-pytorch:main\", \"generator\", device=\"cpu\",pretrained=\"face_paint_512_v2\").eval()\n",
    "face2paint = torch.hub.load(\"bryandlee/animegan2-pytorch:main\", \"face2paint\", device=\"cpu\")"
   ]
  },
  {
   "cell_type": "code",
   "execution_count": null,
   "metadata": {},
   "outputs": [],
   "source": [
    "button = widgets.Button(description=\"Hagamos Magia ;)\")\n",
    "btn_upload = widgets.FileUpload(description='Subir imagen',accept='image/*', multiple=False)\n",
    "out_pl = widgets.Output()\n",
    "image_format = \"jpeg\"\n",
    "button.disabled = False"
   ]
  },
  {
   "cell_type": "code",
   "execution_count": null,
   "metadata": {},
   "outputs": [],
   "source": [
    "def on_data_change(change):\n",
    "    with out_pl:\n",
    "        display.clear_output()\n",
    "        \n",
    "    for fname in btn_upload.value:\n",
    "        bytes_in = btn_upload.value[fname]['content']\n",
    "\n",
    "        im_in = Image.open(BytesIO(bytes_in)).convert(\"RGB\")\n",
    "        im_out = face2paint(model, im_in, side_by_side=False)\n",
    "\n",
    "        buffer_out = BytesIO()\n",
    "        im_out.save(buffer_out, format=image_format)\n",
    "\n",
    "        bytes_out = buffer_out.getvalue()\n",
    "        wi1 = widgets.Image(value=bytes_in, format=image_format)\n",
    "        wi2 = widgets.Image(value=bytes_out, format=image_format)\n",
    "\n",
    "        wi1.layout.max_width = '500px'\n",
    "        wi1.layout.max_height = '500px'\n",
    "        wi2.layout.max_width = '500px'\n",
    "        wi2.layout.max_height = '500px'\n",
    "        sidebyside = widgets.HBox([wi1, wi2])\n",
    "        with out_pl:\n",
    "                display.display(sidebyside)\n",
    "    btn_upload.value.clear()\n",
    "    btn_upload._counter = 0"
   ]
  },
  {
   "cell_type": "code",
   "execution_count": null,
   "metadata": {},
   "outputs": [],
   "source": [
    "def reset_button(a):\n",
    "    btn_upload.value.clear()\n",
    "    btn_upload._counter = 0"
   ]
  },
  {
   "cell_type": "code",
   "execution_count": null,
   "metadata": {},
   "outputs": [],
   "source": [
    "button.on_click(on_data_change)\n",
    "button.on_click(reset_button)\n",
    "display.display(btn_upload, button,out_pl)"
   ]
  }
 ],
 "metadata": {
  "kernelspec": {
   "display_name": "Python 3",
   "language": "python",
   "name": "python3"
  },
  "language_info": {
   "codemirror_mode": {
    "name": "ipython",
    "version": 3
   },
   "file_extension": ".py",
   "mimetype": "text/x-python",
   "name": "python",
   "nbconvert_exporter": "python",
   "pygments_lexer": "ipython3",
   "version": "3.8.5"
  }
 },
 "nbformat": 4,
 "nbformat_minor": 4
}
